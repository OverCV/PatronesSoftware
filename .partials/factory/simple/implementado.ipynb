{
 "cells": [
  {
   "cell_type": "code",
   "execution_count": 1,
   "metadata": {},
   "outputs": [],
   "source": [
    "from abc import ABC\n",
    "\n",
    "\n",
    "class Carga(ABC):\n",
    "    \"\"\"\n",
    "    Carga que se recibe o se despacha de una empresa\n",
    "    \"\"\"\n",
    "\n",
    "    def __init__(self, identificador, fecha_envio, valor):\n",
    "        self.__id = identificador\n",
    "        self.__fecha_envio = fecha_envio\n",
    "        self.__valor = float(valor)\n",
    "\n",
    "    def get_fecha_envio(self):\n",
    "        return self.__fecha_envio\n",
    "\n",
    "\n",
    "class MateriaPrima(Carga):\n",
    "    \"\"\"\n",
    "    Un tipo de carga formado por productos sin procesar,\n",
    "    que serán usados por la empresa en la fabricación de otros productos\n",
    "    \"\"\"\n",
    "\n",
    "    def __init__(self, identificador, fecha_envio, valor, proveedor):\n",
    "        super().__init__(identificador, fecha_envio, valor)\n",
    "        self.__proveedor = proveedor\n",
    "\n",
    "\n",
    "class ProductoTerminado(Carga):\n",
    "    \"\"\"\n",
    "    Tipo de carga, formada por los productos finales elaborados por la empresa.\n",
    "    \"\"\"\n",
    "\n",
    "    def __init__(self, identificador, fecha_envio, valor, destino):\n",
    "        super().__init__(identificador, fecha_envio, valor)\n",
    "        self.__destino = destino"
   ]
  },
  {
   "cell_type": "code",
   "execution_count": 2,
   "metadata": {},
   "outputs": [],
   "source": [
    "class SeccionCarga:\n",
    "    \"\"\"\n",
    "    Sección de la empresa que controla la recepción o despacho de cargas del día.\n",
    "    \"\"\"\n",
    "\n",
    "    def __init__(self):\n",
    "        self.__cargas: list[Carga] = []\n",
    "\n",
    "    def registrar_carga(self, tipo_carga, datos_carga):\n",
    "        cargas = {\n",
    "            \"m\": MateriaPrima(*datos_carga),\n",
    "            \"p\": ProductoTerminado(*datos_carga),\n",
    "        }\n",
    "        carga = cargas[tipo_carga]\n",
    "        self.__cargas.append(carga)\n",
    "\n",
    "    def valor_total_dia(self, fecha):\n",
    "        valor_dia = 0\n",
    "        for carga in self.__cargas:\n",
    "            if carga.get_fecha_envio() == fecha:\n",
    "                valor_dia += carga.valor\n",
    "\n",
    "        return valor_dia"
   ]
  }
 ],
 "metadata": {
  "kernelspec": {
   "display_name": "Python 3",
   "language": "python",
   "name": "python3"
  },
  "language_info": {
   "codemirror_mode": {
    "name": "ipython",
    "version": 3
   },
   "file_extension": ".py",
   "mimetype": "text/x-python",
   "name": "python",
   "nbconvert_exporter": "python",
   "pygments_lexer": "ipython3",
   "version": "3.11.5"
  }
 },
 "nbformat": 4,
 "nbformat_minor": 2
}
