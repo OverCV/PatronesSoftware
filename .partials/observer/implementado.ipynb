{
 "cells": [
  {
   "cell_type": "code",
   "execution_count": 8,
   "metadata": {},
   "outputs": [],
   "source": [
    "# --- Clase Noticia ---\n",
    "class Noticia:\n",
    "    \"\"\"\n",
    "    Representa una noticia publicada.\n",
    "    \"\"\"\n",
    "    def __init__(self, fecha, titular, descripcion):\n",
    "        self.fecha = fecha\n",
    "        self.titular = titular\n",
    "        self.descripcion = descripcion"
   ]
  },
  {
   "cell_type": "code",
   "execution_count": 9,
   "metadata": {},
   "outputs": [],
   "source": [
    "from abc import ABC, abstractmethod\n",
    "\n",
    "# --- Clase Observer ---\n",
    "class MediosComunicacion(ABC):\n",
    "    @abstractmethod\n",
    "    def actualizar(self, noticia):  # Recibe una instancia de Noticia\n",
    "        pass"
   ]
  },
  {
   "cell_type": "code",
   "execution_count": 10,
   "metadata": {},
   "outputs": [],
   "source": [
    "# --- Clase Subject ---\n",
    "class Periodico: # Medio informativo que publica noticias y notifica a sus observadores. #\n",
    "\n",
    "    def __init__(self, nombre):\n",
    "        self.__nombre: str = nombre\n",
    "        self.__noticias: list[Noticia] = []\n",
    "        # Los observers #\n",
    "        self.__medios_comunicacion: list[MediosComunicacion] = []\n",
    "        \n",
    "    def registrar_noticia(self, fecha, titular, descripcion): # \"\"\" Registra una nueva noticia y notifica a los observadores.\"\"\"\n",
    "\n",
    "        noticia = Noticia(fecha, titular, descripcion)\n",
    "        self.__noticias.append(noticia)\n",
    "        self.notificar_medios(noticia)\n",
    "\n",
    "    def agregar_observer(self, observer: MediosComunicacion):\n",
    "        self.__medios_comunicacion.append(observer)\n",
    "\n",
    "    def remover_observer(self, observer: MediosComunicacion):\n",
    "        self.__medios_comunicacion.remove(observer)\n",
    "\n",
    "    def notificar_medios(self, noticia):\n",
    "        for observer in self.__medios_comunicacion:\n",
    "            observer.actualizar(noticia)"
   ]
  },
  {
   "cell_type": "code",
   "execution_count": 11,
   "metadata": {},
   "outputs": [],
   "source": [
    "\n",
    "# --- Observadores concretos ---\n",
    "class SitioWeb(MediosComunicacion):\n",
    "    def __init__(self, nombre):\n",
    "        self.__nombre = nombre\n",
    "\n",
    "    def actualizar(self, noticia: Noticia):\n",
    "        self.publicar_entrada(noticia.fecha, noticia.titular, noticia.descripcion)\n",
    "\n",
    "    def publicar_entrada(self, fecha, titular, descripcion):\n",
    "        cadena_html: str = 'noticia con gatos y patos'\n",
    "        print(f\"NOTICIA EN SITIO WEB ({self.__nombre}):\\n\")\n",
    "        print(cadena_html + \"\\n\")\n"
   ]
  },
  {
   "cell_type": "code",
   "execution_count": 12,
   "metadata": {},
   "outputs": [],
   "source": [
    "\n",
    "class Twitter(MediosComunicacion):\n",
    "    def __init__(self, cuenta):\n",
    "        self.__cuenta = cuenta\n",
    "\n",
    "    def actualizar(self, noticia: Noticia):\n",
    "        self.publicar_trino(noticia.descripcion)\n",
    "\n",
    "    def publicar_trino(self, descripcion):\n",
    "        \"\"\"\n",
    "        Publica un trino con un resumen de la noticia.\n",
    "        \"\"\"\n",
    "        trino = descripcion[:descripcion.find(\".\")]\n",
    "        print(f\"NOTICIA EN TWITTER ({self.__cuenta}): {trino}\\n\")"
   ]
  },
  {
   "cell_type": "code",
   "execution_count": 13,
   "metadata": {},
   "outputs": [
    {
     "name": "stdout",
     "output_type": "stream",
     "text": [
      "NOTICIA EN SITIO WEB (www.comunicativo.com):\n",
      "\n",
      "<p><strong>Eclipse anular</strong></p>\n",
      "<br>\n",
      "<p>14-oct-2023</p>\n",
      "<br>\n",
      "<p>En Colombia se podrá observar el Eclipse anular de sol. Se recomienda usar lentes especiales.</p>\n",
      "\n",
      "NOTICIA EN TWITTER (@comunicativo): En Colombia se podrá observar el Eclipse anular de sol\n",
      "\n",
      "NOTICIA EN SITIO WEB (www.comunicativo.com):\n",
      "\n",
      "<p><strong>Tercer domingo de octubre</strong></p>\n",
      "<br>\n",
      "<p>15-oct-2023</p>\n",
      "<br>\n",
      "<p>Celebración del día del reciclaje. Se promueve la reutilización de materiales.</p>\n",
      "\n",
      "NOTICIA EN TWITTER (@comunicativo): Celebración del día del reciclaje\n",
      "\n"
     ]
    }
   ],
   "source": [
    "\n",
    "# --- Prueba del patrón Observer ---\n",
    "def control_noticias():\n",
    "    \"\"\"\n",
    "    Prueba del periódico que publica noticias y notifica a los observadores.\n",
    "    \"\"\"\n",
    "    # Crear sujetos y observadores\n",
    "    periodico = Periodico(\"El comunicativo\")\n",
    "    sitio_web = SitioWeb(\"www.comunicativo.com\")\n",
    "    cuenta_twitter = Twitter(\"@comunicativo\")\n",
    "\n",
    "    # Suscribir observadores al periódico\n",
    "    periodico.agregar_observer(sitio_web)\n",
    "    periodico.agregar_observer(cuenta_twitter)\n",
    "\n",
    "    # Registrar una noticia y observar las notificaciones\n",
    "    periodico.registrar_noticia(\n",
    "        \"14-oct-2023\",\n",
    "        \"Eclipse anular\",\n",
    "        \"En Colombia se podrá observar el Eclipse anular de sol. \"\n",
    "        \"Se recomienda usar lentes especiales.\",\n",
    "    )\n",
    "\n",
    "    # Registrar otra noticia\n",
    "    periodico.registrar_noticia(\n",
    "        \"15-oct-2023\",\n",
    "        \"Tercer domingo de octubre\",\n",
    "        \"Celebración del día del reciclaje. Se promueve la reutilización de materiales.\",\n",
    "    )\n",
    "| \n",
    "if __name__ == \"__main__\":\n",
    "    control_noticias()"
   ]
  }
 ],
 "metadata": {
  "kernelspec": {
   "display_name": "Python 3",
   "language": "python",
   "name": "python3"
  },
  "language_info": {
   "codemirror_mode": {
    "name": "ipython",
    "version": 3
   },
   "file_extension": ".py",
   "mimetype": "text/x-python",
   "name": "python",
   "nbconvert_exporter": "python",
   "pygments_lexer": "ipython3",
   "version": "3.11.5"
  }
 },
 "nbformat": 4,
 "nbformat_minor": 2
}
