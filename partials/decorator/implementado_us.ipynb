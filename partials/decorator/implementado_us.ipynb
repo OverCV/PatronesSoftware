{
 "cells": [
  {
   "cell_type": "code",
   "execution_count": 1,
   "metadata": {},
   "outputs": [],
   "source": [
    "class Robot:\n",
    "    \"\"\"\n",
    "    Robot que puede extenderse con diferentes funcionalidades.\n",
    "\n",
    "    Sus operaciones \"funcionar\" y \"descripcionFunciones\" necesitan\n",
    "    condicionales para saber qué funcionalides tiene y así poder\n",
    "    ejectuar las acciones (que se simulan con print)\n",
    "    o retornar la información necesaria.\n",
    "    \"\"\"\n",
    "\n",
    "    def __init__(self, id) -> None:\n",
    "        self.__id = id\n",
    "\n",
    "    def funcionar(self) -> None:\n",
    "        print(\"Avanzando... \")\n",
    "\n",
    "    def descripcion_funciones(self) -> str:\n",
    "        funciones = \"El robot avanza \"\n",
    "\n",
    "        return funciones\n"
   ]
  },
  {
   "cell_type": "code",
   "execution_count": 2,
   "metadata": {},
   "outputs": [],
   "source": [
    "class FuncionRobot(Robot):\n",
    "    def __init__(self, robot) -> None:\n",
    "        self.wrappee = robot"
   ]
  },
  {
   "cell_type": "code",
   "execution_count": 3,
   "metadata": {},
   "outputs": [],
   "source": [
    "class AccionLevantarObjetos(FuncionRobot):\n",
    "    def funcionar(self):\n",
    "        wrapee: FuncionRobot = self.wrappee\n",
    "        wrapee.funcionar()\n",
    "        # Lógica específica para Levantar objetos\n",
    "        print(\"El robot está levantando objetos\")\n",
    "\n",
    "    def descripcion_funciones(self):\n",
    "        funcion_base = self.wrappee.descripcion_funciones()\n",
    "        # Retorna descripción de la función específica\n",
    "        return funcion_base + \"Función: Levantar objetos\""
   ]
  },
  {
   "cell_type": "code",
   "execution_count": 4,
   "metadata": {},
   "outputs": [],
   "source": [
    "class AccionDetectaBarreras(FuncionRobot):\n",
    "    def funcionar(self):\n",
    "        self.wrappee.funcionar()\n",
    "        # Lógica específica para detectar barreras\n",
    "        print(\"El robot está detectando barreras\")\n",
    "\n",
    "    def descripcion_funciones(self):\n",
    "        funcion_base = self.wrappee.descripcion_funciones()\n",
    "        # Retorna la descripción de esta función específica\n",
    "        return funcion_base + \"Función: Detectar barreras\""
   ]
  },
  {
   "cell_type": "code",
   "execution_count": 5,
   "metadata": {},
   "outputs": [
    {
     "name": "stdout",
     "output_type": "stream",
     "text": [
      "Avanzando... \n",
      "El robot está levantando objetos\n",
      "El robot está detectando barreras\n"
     ]
    }
   ],
   "source": [
    "class ControlRobot:\n",
    "    @staticmethod\n",
    "    def usar_robot(robot):\n",
    "        # Implementar lógica para utilizar el robot\n",
    "        pass\n",
    "\n",
    "    @staticmethod\n",
    "    def main(args: list[str]):\n",
    "        # Punto de entrada para la ejecución principal\n",
    "        robot = Robot(\"R123\")\n",
    "        accion_levantar = AccionLevantarObjetos(robot)\n",
    "        accion_barreras = AccionDetectaBarreras(accion_levantar)\n",
    "\n",
    "        # Ejemplo de funcionamiento\n",
    "        accion_barreras.funcionar()\n",
    "        # print(accion_barreras.descripcion_funciones())\n",
    "\n",
    "\n",
    "if __name__ == '__main__':\n",
    "    # Ejecución principal\n",
    "    ControlRobot.main([])"
   ]
  }
 ],
 "metadata": {
  "kernelspec": {
   "display_name": "Python 3",
   "language": "python",
   "name": "python3"
  },
  "language_info": {
   "codemirror_mode": {
    "name": "ipython",
    "version": 3
   },
   "file_extension": ".py",
   "mimetype": "text/x-python",
   "name": "python",
   "nbconvert_exporter": "python",
   "pygments_lexer": "ipython3",
   "version": "3.11.5"
  }
 },
 "nbformat": 4,
 "nbformat_minor": 2
}
