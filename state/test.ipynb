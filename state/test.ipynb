{
 "cells": [
  {
   "cell_type": "code",
   "execution_count": 36,
   "metadata": {},
   "outputs": [],
   "source": [
    "from enum import Enum, member\n",
    "\n",
    "class Modo(Enum):\n",
    "    \"\"\"\n",
    "    Formas de uso de un reloj inteligente.\n",
    "    \"\"\"\n",
    "\n",
    "    NORMAL: member = 1\n",
    "    EJERCICIO: member = 2\n",
    "    REPOSO: member = 3\n"
   ]
  },
  {
   "cell_type": "code",
   "execution_count": 37,
   "metadata": {},
   "outputs": [],
   "source": [
    "def sacar(modo: str):\n",
    "    modos_operacion = {\n",
    "        Modo.REPOSO: 'A',\n",
    "        Modo.NORMAL: 'B',\n",
    "        Modo.EJERCICIO: 'C',\n",
    "    }\n",
    "    if modo not in modos_operacion:\n",
    "        print('EXEPAILAS')\n",
    "    else:\n",
    "        return 'todo fino'"
   ]
  },
  {
   "cell_type": "markdown",
   "metadata": {},
   "source": [
    "Hola gente"
   ]
  },
  {
   "cell_type": "code",
   "execution_count": 38,
   "metadata": {},
   "outputs": [
    {
     "name": "stdout",
     "output_type": "stream",
     "text": [
      "EXEPAILAS\n",
      "None\n"
     ]
    }
   ],
   "source": [
    "print(sacar('awa'))"
   ]
  }
 ],
 "metadata": {
  "kernelspec": {
   "display_name": "Python 3",
   "language": "python",
   "name": "python3"
  },
  "language_info": {
   "codemirror_mode": {
    "name": "ipython",
    "version": 3
   },
   "file_extension": ".py",
   "mimetype": "text/x-python",
   "name": "python",
   "nbconvert_exporter": "python",
   "pygments_lexer": "ipython3",
   "version": "3.11.5"
  }
 },
 "nbformat": 4,
 "nbformat_minor": 2
}
