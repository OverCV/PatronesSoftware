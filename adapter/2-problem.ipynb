{
 "cells": [
  {
   "cell_type": "code",
   "execution_count": 79,
   "metadata": {},
   "outputs": [],
   "source": [
    "# Clase existente (Adaptee) para plantas\n",
    "class Planta:\n",
    "    def __init__(self, especie, beneficios, dimension):\n",
    "        self.__especie = especie\n",
    "        self.__beneficios = beneficios\n",
    "        self.__dimension = dimension\n",
    "\n",
    "    def meses_adaptacion(self):\n",
    "        # Lógica para calcular los meses de adaptación\n",
    "        if self.__especie == 'Conífera':\n",
    "            return 20\n",
    "        elif self.__especie == 'Gramínea':\n",
    "            return 2\n",
    "        elif self.__especie == 'Frutal':\n",
    "            return 6\n",
    "        else:\n",
    "            return 12\n",
    "\n",
    "    def calcular_cantidad(self, factor: int = 100):\n",
    "        # Lógica para calcular la cantidad\n",
    "        return self.__dimension * factor\n",
    "\n",
    "    def get_beneficios(self):\n",
    "        return self.__beneficios\n",
    "\n",
    "    def get_especie(self):\n",
    "        return self.__especie\n",
    "\n",
    "    def get_dimension(self):\n",
    "        return self.__dimension"
   ]
  },
  {
   "cell_type": "code",
   "execution_count": 80,
   "metadata": {},
   "outputs": [],
   "source": [
    "# Clase existente para animales (también actúa como un Adaptee)\n",
    "class Animal:\n",
    "    def __init__(self, especie: str, habitante: bool, cantidad_estimada: int):\n",
    "        self.__especie = especie\n",
    "        self.__habitante = habitante\n",
    "        self.__cantidad_estimada = cantidad_estimada\n",
    "\n",
    "    def dias_adaptacion(self):\n",
    "        # Lógica para calcular los días de adaptación\n",
    "        if self.__especie == 'Felino':\n",
    "            return 30\n",
    "        elif self.__especie == 'Mamífero':\n",
    "            return 60\n",
    "        else:\n",
    "            return 20\n",
    "\n",
    "    def get_cantidad_estimada(self):\n",
    "        return self.__cantidad_estimada\n",
    "\n",
    "    def is_habitante(self):\n",
    "        return self.__habitante\n",
    "\n",
    "    def get_especie(self):\n",
    "        return self.__especie"
   ]
  },
  {
   "cell_type": "code",
   "execution_count": 81,
   "metadata": {},
   "outputs": [],
   "source": [
    "from abc import ABC, abstractmethod\n",
    "\n",
    "# Interfaz Target (SerVivo) que define los métodos estándar para todos los seres vivos\n",
    "class SerVivo(ABC):\n",
    "    @abstractmethod\n",
    "    def dias_adaptacion(self):\n",
    "        \"\"\"Método para calcular los días de adaptación\"\"\"\n",
    "\n",
    "    @abstractmethod\n",
    "    def get_cantidad_estimada(self):\n",
    "        \"\"\"Método para obtener la cantidad estimada\"\"\""
   ]
  },
  {
   "cell_type": "code",
   "execution_count": 82,
   "metadata": {},
   "outputs": [],
   "source": [
    "# Adapter para Planta que implementa SerVivo\n",
    "class PlantaSerVivo(SerVivo):\n",
    "    def __init__(self, planta: Planta):\n",
    "        self.__planta = planta\n",
    "\n",
    "    def dias_adaptacion(self):\n",
    "        # Convierte meses a días\n",
    "        return self.__planta.meses_adaptacion() * 30\n",
    "\n",
    "    def get_cantidad_estimada(self):\n",
    "        # Usa un factor arbitrario para calcular la cantidad\n",
    "        return self.__planta.calcular_cantidad(factor=1.0)\n",
    "\n",
    "    # def get_descripcion(self):\n",
    "    #     return f\"Planta de especie {self.__planta.get_especie()} con beneficios: {self.__planta.get_beneficios()}\""
   ]
  },
  {
   "cell_type": "code",
   "execution_count": 83,
   "metadata": {},
   "outputs": [],
   "source": [
    "# # Adapter para Animal que implementa SerVivo\n",
    "# class AnimalAdapter(SerVivo):\n",
    "#     def __init__(self, animal: Animal):\n",
    "#         self.__animal = animal\n",
    "\n",
    "#     def dias_adaptacion(self):\n",
    "#         return self.__animal.dias_adaptacion()\n",
    "\n",
    "#     def get_cantidad_estimada(self):\n",
    "#         return self.__animal.get_cantidad_estimada()\n",
    "\n",
    "#     def get_descripcion(self):\n",
    "#         return f\"Animal de especie {self.__animal.get_especie()}, habitante: {self.__animal.is_habitante()}\""
   ]
  },
  {
   "cell_type": "code",
   "execution_count": 84,
   "metadata": {},
   "outputs": [],
   "source": [
    "# Clase Parque que interactúa con objetos SerVivo\n",
    "class ParqueNatural:\n",
    "    def __init__(self):\n",
    "        # self.elementos: list[SerVivo] = []\n",
    "        self.__animales: list[Animal] = []\n",
    "        self.__plantas: list[Planta] = []\n",
    "        self.__seres_vivos: list[SerVivo] = []\n",
    "\n",
    "    def adicionar_animal(self, animal: Animal):\n",
    "        self.__seres_vivos.append(animal)\n",
    "        self.__animales.append(animal)\n",
    "\n",
    "    def adicionar_planta(self, planta: Planta):\n",
    "        self.__seres_vivos.append(PlantaSerVivo(planta))\n",
    "        self.__plantas.append(planta)\n",
    "\n",
    "    def generar_reporte(self):\n",
    "        for ser_vivo in self.__seres_vivos:\n",
    "            print(\"-\"*40)\n",
    "            print(f\"Días de adaptación promedio: {ser_vivo.dias_adaptacion()}{ser_vivo.__class__}\")\n",
    "            print(f\"Cantidad: {ser_vivo.get_cantidad_estimada()}\")\n",
    "            print(\"~\"*40)\n",
    "        # for planta in self.__plantas:\n",
    "        #     print(\"-\"*40)\n",
    "        #     print(f\"Descripción reporte: {planta.get_especie()}\")\n",
    "        #     print(f\"Días de adaptación promedio: {planta.meses_adaptacion()}\")\n",
    "        #     print(f\"Cantidad: {planta.get_dimension()}\")\n",
    "        #     print(\"~\"*40)"
   ]
  },
  {
   "cell_type": "code",
   "execution_count": 85,
   "metadata": {},
   "outputs": [
    {
     "name": "stdout",
     "output_type": "stream",
     "text": [
      "----------------------------------------\n",
      "Días de adaptación promedio: 30<class '__main__.Animal'>\n",
      "Cantidad: 2\n",
      "~~~~~~~~~~~~~~~~~~~~~~~~~~~~~~~~~~~~~~~~\n",
      "----------------------------------------\n",
      "Días de adaptación promedio: 60<class '__main__.Animal'>\n",
      "Cantidad: 50\n",
      "~~~~~~~~~~~~~~~~~~~~~~~~~~~~~~~~~~~~~~~~\n",
      "----------------------------------------\n",
      "Días de adaptación promedio: 180<class '__main__.PlantaSerVivo'>\n",
      "Cantidad: 160.0\n",
      "~~~~~~~~~~~~~~~~~~~~~~~~~~~~~~~~~~~~~~~~\n",
      "----------------------------------------\n",
      "Días de adaptación promedio: 60<class '__main__.PlantaSerVivo'>\n",
      "Cantidad: 20.0\n",
      "~~~~~~~~~~~~~~~~~~~~~~~~~~~~~~~~~~~~~~~~\n"
     ]
    }
   ],
   "source": [
    "if __name__ == \"__main__\":\n",
    "    parque = ParqueNatural()\n",
    "\n",
    "    ser_vivo = Animal('Felino', False, 2)\n",
    "    parque.adicionar_animal(ser_vivo)\n",
    "    ser_vivo = Animal('Mamífero', True, 50)\n",
    "    parque.adicionar_animal(ser_vivo)\n",
    "\n",
    "    planta = Planta('Frutal', 'Fuente de vitaminas', 160)\n",
    "    parque.adicionar_planta(planta)\n",
    "    planta = Planta('Gramínea', 'Alimento para ganado', 20)\n",
    "    parque.adicionar_planta(planta)\n",
    "\n",
    "    parque.generar_reporte()\n"
   ]
  }
 ],
 "metadata": {
  "kernelspec": {
   "display_name": "Python 3",
   "language": "python",
   "name": "python3"
  },
  "language_info": {
   "codemirror_mode": {
    "name": "ipython",
    "version": 3
   },
   "file_extension": ".py",
   "mimetype": "text/x-python",
   "name": "python",
   "nbconvert_exporter": "python",
   "pygments_lexer": "ipython3",
   "version": "3.11.5"
  }
 },
 "nbformat": 4,
 "nbformat_minor": 2
}
