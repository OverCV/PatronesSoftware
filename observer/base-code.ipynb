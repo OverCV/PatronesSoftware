{
 "cells": [
  {
   "cell_type": "code",
   "execution_count": 34,
   "metadata": {},
   "outputs": [],
   "source": [
    "class Noticia:\n",
    "    \"\"\"\n",
    "    Noticia que se publica en un periódico o en redes sociales.\n",
    "    \"\"\"\n",
    "\n",
    "    def __init__(self, fecha, titular, descripcion):\n",
    "        self.fecha = fecha\n",
    "        self.titular = titular\n",
    "        self.descripcion = descripcion"
   ]
  },
  {
   "cell_type": "code",
   "execution_count": 35,
   "metadata": {},
   "outputs": [],
   "source": [
    "class SitioWeb:\n",
    "    \"\"\"\n",
    "    Sitio en Internet donde se publican noticias.\n",
    "    \"\"\"\n",
    "\n",
    "    def __init__(self, nombre):\n",
    "        self.nombre = nombre\n",
    "\n",
    "    def publicar_entrada(self, fecha, titular, descripcion):\n",
    "        \"\"\"\n",
    "        A partir de los datos de la noticia crea una nueva entrada\n",
    "        en el sitio web.\n",
    "        \"\"\"\n",
    "        cadena_html = (\n",
    "            \"<p><strong>\"\n",
    "            + titular\n",
    "            + \"</strong></p>\\n<br>\\n\"\n",
    "            + \"<p>\"\n",
    "            + fecha\n",
    "            + \"</p>\\n<br>\\n\"\n",
    "            + \"<p>\"\n",
    "            + descripcion\n",
    "            + \"</p>\"\n",
    "        )\n",
    "        # Simula publicar en la página web:\n",
    "        print(\"NOTICIA EN SITIO WEB:\\n\")\n",
    "        print(cadena_html + \"\\n\")"
   ]
  },
  {
   "cell_type": "code",
   "execution_count": 36,
   "metadata": {},
   "outputs": [],
   "source": [
    "class Twitter:\n",
    "    \"\"\"\n",
    "    Cuenta en Twitter que publica el resumen de las noticias.\n",
    "    \"\"\"\n",
    "\n",
    "    def __init__(self, cuenta):\n",
    "        self.cuenta = cuenta\n",
    "\n",
    "    def publicar_trino(self, descripcion):\n",
    "        \"\"\"\n",
    "        A partir de la descripción de la noticia crea una nueva entrada\n",
    "        en la red social.\n",
    "        \"\"\"\n",
    "        trino = descripcion[0 : descripcion.find(\".\")]\n",
    "        print(\"NOTICIA EN TWITTER: \" + trino + \"\\n\")"
   ]
  },
  {
   "cell_type": "code",
   "execution_count": 37,
   "metadata": {},
   "outputs": [],
   "source": [
    "class Periodico:\n",
    "    \"\"\"\n",
    "    Medio informativo que publica noticias en medios escritos.\n",
    "    \"\"\"\n",
    "\n",
    "    def __init__(self, nombre):\n",
    "        self.__nombre: str = nombre\n",
    "        self.__website: SitioWeb = None\n",
    "        self.__twitter: Twitter = None\n",
    "        self.__noticias: list[Noticia] = []\n",
    "\n",
    "    def registrar_noticia(self, fecha, titular, descripcion):\n",
    "        \"\"\"\n",
    "        Publica una nueva noticia en diferentes medios\n",
    "        (incluyendo medios de Internet).\n",
    "        \"\"\"\n",
    "        noticia = Noticia(fecha, titular, descripcion)\n",
    "        self.__noticias.append(noticia)\n",
    "\n",
    "        # Publica en web y redes sociales\n",
    "        self.publicar_web(noticia)\n",
    "        self.publicar_twitter(noticia)\n",
    "\n",
    "    def publicar_web(self, noticia: Noticia):\n",
    "        self.__website.publicar_entrada(\n",
    "            noticia.fecha, noticia.titular, noticia.descripcion\n",
    "        )\n",
    "\n",
    "    def publicar_twitter(self, noticia: Noticia):\n",
    "        self.__twitter.publicar_trino(noticia.descripcion)\n",
    "\n",
    "    def set_website(self, website):\n",
    "        self.__website = website\n",
    "        \n",
    "    def set_twitter(self, twitter):\n",
    "        self.__twitter = twitter\n",
    "        "
   ]
  },
  {
   "cell_type": "code",
   "execution_count": 38,
   "metadata": {},
   "outputs": [
    {
     "name": "stdout",
     "output_type": "stream",
     "text": [
      "NOTICIA EN SITIO WEB:\n",
      "\n",
      "<p><strong>Eclipse anular</strong></p>\n",
      "<br>\n",
      "<p>14-oct-2023</p>\n",
      "<br>\n",
      "<p>En Colombia se podrá observar el Eclipse anular de sol. Se recomienda usar lentes especiales.</p>\n",
      "\n",
      "NOTICIA EN TWITTER: En Colombia se podrá observar el Eclipse anular de sol\n",
      "\n"
     ]
    }
   ],
   "source": [
    "def prueba_noticias():\n",
    "    \"\"\"\n",
    "    Pruebas de un periódico que publica noticias.\n",
    "    \"\"\"\n",
    "    periodico = Periodico(\"El comunicativo\")\n",
    "    sitio_web = SitioWeb(\"www.comunicativo.com\")\n",
    "    cuenta_twitter = Twitter(\"@comunicativo\")\n",
    "\n",
    "    periodico.set_website(sitio_web)\n",
    "    periodico.set_twitter(cuenta_twitter)\n",
    "\n",
    "\n",
    "    periodico.registrar_noticia(\n",
    "        \"14-oct-2023\",\n",
    "        \"Eclipse anular\",\n",
    "        \"En Colombia se podrá observar el Eclipse anular de sol. \"\n",
    "        \"Se recomienda usar lentes especiales.\",\n",
    "    )\n",
    "\n",
    "\n",
    "if __name__ == \"__main__\":\n",
    "    prueba_noticias()"
   ]
  }
 ],
 "metadata": {
  "kernelspec": {
   "display_name": "Python 3",
   "language": "python",
   "name": "python3"
  },
  "language_info": {
   "codemirror_mode": {
    "name": "ipython",
    "version": 3
   },
   "file_extension": ".py",
   "mimetype": "text/x-python",
   "name": "python",
   "nbconvert_exporter": "python",
   "pygments_lexer": "ipython3",
   "version": "3.11.5"
  }
 },
 "nbformat": 4,
 "nbformat_minor": 2
}
