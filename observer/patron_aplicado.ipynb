{
 "cells": [
  {
   "cell_type": "code",
   "execution_count": 1,
   "metadata": {},
   "outputs": [],
   "source": [
    "from abc import ABC, abstractmethod\n",
    "\n",
    "class Observer(ABC):\n",
    "    @abstractmethod\n",
    "    def update(self, message: str): \n",
    "        pass"
   ]
  },
  {
   "cell_type": "code",
   "execution_count": 2,
   "metadata": {},
   "outputs": [],
   "source": [
    "from abc import ABC, abstractmethod\n",
    "\n",
    "class Subject(ABC):\n",
    "    @abstractmethod\n",
    "    def subscribe(self, observer: Observer):\n",
    "        pass\n",
    "    \n",
    "    @abstractmethod\n",
    "    def unsubscribe(self, observer: Observer):\n",
    "        pass\n",
    "    \n",
    "    @abstractmethod\n",
    "    def notify(self, message: str):\n",
    "        pass"
   ]
  },
  {
   "cell_type": "code",
   "execution_count": 3,
   "metadata": {},
   "outputs": [],
   "source": [
    "class ConcreteSubject(Subject):\n",
    "    def __init__(self):\n",
    "        self.observers = []\n",
    "    \n",
    "    def subscribe(self, observer: Observer):\n",
    "        self.observers.append(observer)\n",
    "    \n",
    "    def unsubscribe(self, observer: Observer):\n",
    "        self.observers.remove(observer)\n",
    "    \n",
    "    def notify(self, message: str):\n",
    "        for observer in self.observers:\n",
    "            observer.update(message)"
   ]
  },
  {
   "cell_type": "code",
   "execution_count": 4,
   "metadata": {},
   "outputs": [],
   "source": [
    "class ConcreteObserver(Observer):\n",
    "    def update(self, message: str):\n",
    "        print(f\"Received message: {message}\")"
   ]
  },
  {
   "cell_type": "code",
   "execution_count": 5,
   "metadata": {},
   "outputs": [
    {
     "name": "stdout",
     "output_type": "stream",
     "text": [
      "Received message: Hello, world!\n",
      "Received message: Hello, world!\n"
     ]
    }
   ],
   "source": [
    "# Test de usabilidad #\n",
    "subject = ConcreteSubject()\n",
    "observer1 = ConcreteObserver()\n",
    "observer2 = ConcreteObserver()\n",
    "\n",
    "subject.subscribe(observer1)\n",
    "subject.subscribe(observer2)\n",
    "\n",
    "subject.notify(\"Hello, world!\")"
   ]
  }
 ],
 "metadata": {
  "kernelspec": {
   "display_name": "Python 3",
   "language": "python",
   "name": "python3"
  },
  "language_info": {
   "codemirror_mode": {
    "name": "ipython",
    "version": 3
   },
   "file_extension": ".py",
   "mimetype": "text/x-python",
   "name": "python",
   "nbconvert_exporter": "python",
   "pygments_lexer": "ipython3",
   "version": "3.11.5"
  }
 },
 "nbformat": 4,
 "nbformat_minor": 2
}
